{
 "cells": [
  {
   "cell_type": "markdown",
   "id": "64786b39-3a65-4e9a-b1d8-2e1591199782",
   "metadata": {},
   "source": []
  },
  {
   "cell_type": "code",
   "execution_count": 1,
   "id": "8de9dbf8-cc33-4381-a526-b224cb43ac23",
   "metadata": {},
   "outputs": [],
   "source": [
    "import numpy as np\n",
    "input=np.array([1,1])\n"
   ]
  },
  {
   "cell_type": "code",
   "execution_count": 2,
   "id": "bed3c684-6187-4f01-a212-7bef85f038c1",
   "metadata": {},
   "outputs": [],
   "source": [
    "weights={\"node0\":np.array([0.8,0.2]),\n",
    "         \"node1\":np.array([0.4,0.9]),\n",
    "         \"node2\":np.array([0.3,0.5]),\n",
    "         \"output\":np.array([0.3,0.5,0.9]) \n",
    "}"
   ]
  },
  {
   "cell_type": "markdown",
   "id": "22ddce67-4b0a-4c50-b1f2-90eba948634e",
   "metadata": {},
   "source": [
    "<h2>Without Activation Function</h2>"
   ]
  },
  {
   "cell_type": "code",
   "execution_count": 10,
   "id": "3b212b67-e21d-4925-a834-04876b713a2b",
   "metadata": {},
   "outputs": [],
   "source": [
    "node0Input=(input*weights[\"node0\"]).sum()\n",
    "node1Input=(input*weights[\"node1\"]).sum()\n",
    "node2Input=(input*weights[\"node2\"]).sum()"
   ]
  },
  {
   "cell_type": "code",
   "execution_count": 11,
   "id": "ad049045-5256-4fd9-b5e7-5a40480177af",
   "metadata": {},
   "outputs": [],
   "source": [
    "node_output=np.array([node0Input,node1Input,node2Input])"
   ]
  },
  {
   "cell_type": "code",
   "execution_count": null,
   "id": "e3604299-58a2-4c33-8fd7-5b3d26fc9198",
   "metadata": {},
   "outputs": [],
   "source": [
    "modelOutput=(node_output*weights[\"output\"]).sum()"
   ]
  },
  {
   "cell_type": "code",
   "execution_count": 12,
   "id": "b9c9043c-7980-491f-9ee5-c7af3bb4de5e",
   "metadata": {},
   "outputs": [
    {
     "name": "stdout",
     "output_type": "stream",
     "text": [
      "1.67\n"
     ]
    }
   ],
   "source": [
    "print(modelOutput)"
   ]
  },
  {
   "cell_type": "markdown",
   "id": "d46f0429-2bd1-4344-aa08-eed452d40a04",
   "metadata": {},
   "source": [
    "<h2>With Tanh Activation</h2>"
   ]
  },
  {
   "cell_type": "code",
   "execution_count": 46,
   "id": "0d6fbbcd-1c76-4189-b80d-0a64e80ef50f",
   "metadata": {},
   "outputs": [],
   "source": [
    "node0Input=(input*weights[\"node0\"]).sum()\n",
    "node0output=np.tanh(node0Input)"
   ]
  },
  {
   "cell_type": "code",
   "execution_count": 47,
   "id": "44c9d062-2c5d-4d10-8cbe-55b7f26333ac",
   "metadata": {},
   "outputs": [],
   "source": [
    "node1Input=(input*weights[\"node1\"]).sum()\n",
    "node1output=np.tanh(node1Input)"
   ]
  },
  {
   "cell_type": "code",
   "execution_count": 48,
   "id": "e5f848fc-805f-41a3-9aea-e7e83ec2f28a",
   "metadata": {},
   "outputs": [],
   "source": [
    "node2Input=(input*weights[\"node2\"]).sum()\n",
    "node2output=np.tanh(node2Input)"
   ]
  },
  {
   "cell_type": "code",
   "execution_count": 49,
   "id": "0f94b59b-d6e5-4b48-a7c6-71e94875c208",
   "metadata": {},
   "outputs": [],
   "source": [
    "node_output=np.array([node0output,node1output,node2output])\n"
   ]
  },
  {
   "cell_type": "code",
   "execution_count": 50,
   "id": "3ecd9eb2-9d78-4fc4-818a-3b4ad7635a87",
   "metadata": {},
   "outputs": [],
   "source": [
    "modelOutput=(node_output*weights[\"output\"]).sum()"
   ]
  },
  {
   "cell_type": "code",
   "execution_count": 51,
   "id": "98d7f27b-83b6-485a-be4d-258aa57fc863",
   "metadata": {},
   "outputs": [
    {
     "name": "stdout",
     "output_type": "stream",
     "text": [
      "1.2569729196844468\n"
     ]
    }
   ],
   "source": [
    "print(modelOutput)"
   ]
  },
  {
   "cell_type": "markdown",
   "id": "86cd8155-e2db-43e2-91c9-dba18216dd1a",
   "metadata": {},
   "source": [
    "<h2>With Relu Activation</h2>"
   ]
  },
  {
   "cell_type": "code",
   "execution_count": 3,
   "id": "ac3e9acf-390a-4519-b4a6-a223f1e514e3",
   "metadata": {},
   "outputs": [],
   "source": [
    "def relu(input):\n",
    "    output=max(0,input)\n",
    "    return output"
   ]
  },
  {
   "cell_type": "code",
   "execution_count": 4,
   "id": "3be7c38d-60f2-4043-b77b-bc3a2cf148c7",
   "metadata": {},
   "outputs": [],
   "source": [
    "node0Input=(input*weights[\"node0\"]).sum()\n",
    "node0output=relu(node0Input)"
   ]
  },
  {
   "cell_type": "code",
   "execution_count": 5,
   "id": "a72f805d-9ac5-47d8-a110-657c158a4b70",
   "metadata": {},
   "outputs": [],
   "source": [
    "node1Input=(input*weights[\"node1\"]).sum()\n",
    "node1output=relu(node1Input)"
   ]
  },
  {
   "cell_type": "code",
   "execution_count": 6,
   "id": "a2246cd2-3e5a-4d08-9374-9032fb1cf798",
   "metadata": {},
   "outputs": [],
   "source": [
    "node2Input=(input*weights[\"node2\"]).sum()\n",
    "node2output=relu(node2Input)"
   ]
  },
  {
   "cell_type": "code",
   "execution_count": 7,
   "id": "80be5963-7888-4c2c-8158-3a33038f08dc",
   "metadata": {},
   "outputs": [],
   "source": [
    "node_output=np.array([node0output,node1output,node2output])\n"
   ]
  },
  {
   "cell_type": "code",
   "execution_count": 8,
   "id": "f038785d-8751-4af3-8716-3f158a2fc2b4",
   "metadata": {},
   "outputs": [],
   "source": [
    "modelOutput=(node_output*weights[\"output\"]).sum()"
   ]
  },
  {
   "cell_type": "code",
   "execution_count": 9,
   "id": "7d17310a-9579-4792-8a1d-bdaa3ea766b6",
   "metadata": {},
   "outputs": [
    {
     "name": "stdout",
     "output_type": "stream",
     "text": [
      "1.67\n"
     ]
    }
   ],
   "source": [
    "print(modelOutput)"
   ]
  },
  {
   "cell_type": "code",
   "execution_count": null,
   "id": "13c76ad8-e907-4ff1-a0b1-8fafeccf84d2",
   "metadata": {},
   "outputs": [],
   "source": []
  },
  {
   "cell_type": "code",
   "execution_count": null,
   "id": "994bbe8c-2adc-410e-a3e8-92bada85c848",
   "metadata": {},
   "outputs": [],
   "source": []
  }
 ],
 "metadata": {
  "kernelspec": {
   "display_name": "Python 3 (ipykernel)",
   "language": "python",
   "name": "python3"
  },
  "language_info": {
   "codemirror_mode": {
    "name": "ipython",
    "version": 3
   },
   "file_extension": ".py",
   "mimetype": "text/x-python",
   "name": "python",
   "nbconvert_exporter": "python",
   "pygments_lexer": "ipython3",
   "version": "3.12.3"
  }
 },
 "nbformat": 4,
 "nbformat_minor": 5
}
