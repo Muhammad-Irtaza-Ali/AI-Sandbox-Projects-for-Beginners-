{
 "cells": [
  {
   "cell_type": "code",
   "execution_count": 1,
   "id": "34d241cc-9946-418a-9403-1a2c4d8d2a8e",
   "metadata": {},
   "outputs": [],
   "source": [
    "import pandas as pd\n",
    "from sklearn.model_selection import train_test_split \n",
    "from sklearn.linear_model import LinearRegression\n",
    "from sklearn.metrics import r2_score\n",
    "import matplotlib.pyplot as plt\n",
    "import numpy as np\n",
    "wine = pd.read_csv(\"winequality-red.csv\",sep=\";\")\n",
    "\n",
    "X=wine.drop(\"quality\",axis=1).values  \n",
    "y=wine[\"quality\"].values \n",
    "\n",
    "X_train,X_test,y_train,y_test=train_test_split(X,y,test_size=0.3,random_state=42)\n",
    "\n",
    "\n",
    "reg_all=LinearRegression()\n",
    "\n",
    "\n",
    "reg_all.fit(X_train,y_train)\n",
    "\n",
    "y_pred=reg_all.predict(X_test)\n",
    "\n",
    "\n",
    "r2 = reg_all.score(X_test,y_test) "
   ]
  },
  {
   "cell_type": "code",
   "execution_count": 2,
   "id": "0bec2d6b-cbcf-425f-aa73-c40d61e37330",
   "metadata": {},
   "outputs": [
    {
     "name": "stdout",
     "output_type": "stream",
     "text": [
      "R-squared score: 0.3513885332505239\n"
     ]
    }
   ],
   "source": [
    "print(\"R-squared score:\",r2)\n"
   ]
  },
  {
   "cell_type": "code",
   "execution_count": null,
   "id": "d95a2f8c-04c4-489c-96e8-7a7972e87896",
   "metadata": {},
   "outputs": [],
   "source": []
  },
  {
   "cell_type": "code",
   "execution_count": null,
   "id": "084a95a9-3de1-402e-bff9-c54b3356a8e9",
   "metadata": {},
   "outputs": [],
   "source": []
  }
 ],
 "metadata": {
  "kernelspec": {
   "display_name": "Python 3 (ipykernel)",
   "language": "python",
   "name": "python3"
  },
  "language_info": {
   "codemirror_mode": {
    "name": "ipython",
    "version": 3
   },
   "file_extension": ".py",
   "mimetype": "text/x-python",
   "name": "python",
   "nbconvert_exporter": "python",
   "pygments_lexer": "ipython3",
   "version": "3.12.3"
  }
 },
 "nbformat": 4,
 "nbformat_minor": 5
}
